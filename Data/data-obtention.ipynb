{
 "cells": [
  {
   "cell_type": "code",
   "execution_count": 4,
   "metadata": {},
   "outputs": [],
   "source": [
    "import os\n",
    "import googleapiclient.discovery\n",
    "import json\n",
    "\n",
    "#Get API key from file in \"/Users/parzival1918/Documents/API_KEYS/YT-KEY\"\n",
    "filename = \"/Users/parzival1918/Documents/API_KEYS/YT-KEY\"\n",
    "with open(filename, 'r') as f:\n",
    "    API_KEY = f.read().rstrip()"
   ]
  },
  {
   "cell_type": "code",
   "execution_count": 5,
   "metadata": {},
   "outputs": [],
   "source": [
    "#Download the data for the episodes of El Búnquer using the youtube API\n",
    "# Disable OAuthlib's HTTPS verification when running locally.\n",
    "# *DO NOT* leave this option enabled in production.\n",
    "os.environ[\"OAUTHLIB_INSECURE_TRANSPORT\"] = \"1\"\n",
    "\n",
    "api_service_name = \"youtube\"\n",
    "api_version = \"v3\"\n",
    "DEVELOPER_KEY = API_KEY\n",
    "\n",
    "def callYTAPI(pageTokentxt=\"\"):\n",
    "    youtube = googleapiclient.discovery.build(\n",
    "        api_service_name, api_version, developerKey = DEVELOPER_KEY)\n",
    "\n",
    "    request = youtube.playlistItems().list(\n",
    "        part=\"snippet\",\n",
    "        maxResults=50,\n",
    "        pageToken=pageTokentxt,\n",
    "        playlistId=\"PL5HwsHboiE9ngozgQ1ZkB9X4gnEwUcLR3\"\n",
    "    )\n",
    "    response = request.execute()\n",
    "\n",
    "    return response"
   ]
  },
  {
   "cell_type": "code",
   "execution_count": 10,
   "metadata": {},
   "outputs": [
    {
     "name": "stdout",
     "output_type": "stream",
     "text": [
      "Page 1 saved\n",
      "Page 2 saved\n",
      "Page 3 saved\n",
      "Page 4 saved\n",
      "Page 5 saved\n",
      "Page 6 saved\n",
      "Page 7 saved\n",
      "Page 8 saved\n",
      "Page 9 saved\n",
      "Page 10 saved\n"
     ]
    }
   ],
   "source": [
    "pageCount = 0\n",
    "savefolder = \"ElBunquer/\"\n",
    "\n",
    "#Get the first page\n",
    "response = callYTAPI()\n",
    "\n",
    "#Save the results in a json file\n",
    "filename = savefolder + \"page\" + str(pageCount) + \".json\"\n",
    "with open(filename, 'w') as outfile:\n",
    "    json.dump(response, outfile, indent=0, ensure_ascii=False)\n",
    "\n",
    "#Get the next page token\n",
    "try:\n",
    "    nextPageToken = response['nextPageToken']\n",
    "except:\n",
    "    nextPageToken = None\n",
    "\n",
    "#Update the page count\n",
    "pageCount += 1\n",
    "\n",
    "while nextPageToken != None:\n",
    "    #filename\n",
    "    filename = savefolder + \"page\" + str(pageCount) + \".json\"\n",
    "\n",
    "    #Get results from the API\n",
    "    response = callYTAPI(pageTokentxt=nextPageToken)\n",
    "\n",
    "    #Save the results in a json file\n",
    "    with open(filename, 'w') as outfile:\n",
    "        json.dump(response, outfile, indent=0, ensure_ascii=False)\n",
    "\n",
    "    print(\"Page \" + str(pageCount) + \" saved\")\n",
    "\n",
    "    #Get the next page token\n",
    "    try:\n",
    "        nextPageToken = response['nextPageToken']\n",
    "    except:\n",
    "        nextPageToken = None\n",
    "\n",
    "    #Update the page count\n",
    "    pageCount += 1"
   ]
  }
 ],
 "metadata": {
  "kernelspec": {
   "display_name": "base",
   "language": "python",
   "name": "python3"
  },
  "language_info": {
   "codemirror_mode": {
    "name": "ipython",
    "version": 3
   },
   "file_extension": ".py",
   "mimetype": "text/x-python",
   "name": "python",
   "nbconvert_exporter": "python",
   "pygments_lexer": "ipython3",
   "version": "3.9.12"
  },
  "orig_nbformat": 4
 },
 "nbformat": 4,
 "nbformat_minor": 2
}
